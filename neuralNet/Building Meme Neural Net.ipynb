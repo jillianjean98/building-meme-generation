{
 "cells": [
  {
   "cell_type": "markdown",
   "metadata": {},
   "source": [
    "This is an example of how I trained the neural net for generating building meme captions. This is a minimal example, in the actaul training I used GPUs provided by Google Colaboratory, and adjusted more parameters of the model. In the end of this document, I illustrate how the model I created was configured, and load it from a file to demonstrate some of the outpus."
   ]
  },
  {
   "cell_type": "code",
   "execution_count": 79,
   "metadata": {},
   "outputs": [],
   "source": [
    "from textgenrnn import textgenrnn\n",
    "\n",
    "textgen = textgenrnn(name=\"building_meme_captions\")"
   ]
  },
  {
   "cell_type": "markdown",
   "metadata": {},
   "source": [
    "The default model was trained on posts from reddit, spanning a variety of subreddits. As a demonstration, here are some samples of what the model would generates without any further training. "
   ]
  },
  {
   "cell_type": "code",
   "execution_count": 80,
   "metadata": {},
   "outputs": [
    {
     "name": "stdout",
     "output_type": "stream",
     "text": [
      "ELI5: Why do shaved at the shot to the story of a stream\n",
      "\n",
      "Could you ever go on my best on comments?\n",
      "\n",
      "a guy who all did it.\n",
      "\n",
      "Comp to play the World Team Final Code [W] Paypal\n",
      "\n",
      "me irl\n",
      "\n"
     ]
    }
   ],
   "source": [
    "textgen.generate(n=5, progress=False)"
   ]
  },
  {
   "cell_type": "markdown",
   "metadata": {},
   "source": [
    "In order to train the model on the meme captions, I first load the dataset."
   ]
  },
  {
   "cell_type": "code",
   "execution_count": 82,
   "metadata": {},
   "outputs": [],
   "source": [
    "captions = [line.rstrip() for line in open('../data/meme_captions_final.txt')]"
   ]
  },
  {
   "cell_type": "markdown",
   "metadata": {},
   "source": [
    "Here, I train the model with the meme captions. The number of epochs is the number of iterations over the model. We'll also save it to a file so it can be reused later, without the overhead of retraining. "
   ]
  },
  {
   "cell_type": "code",
   "execution_count": 90,
   "metadata": {},
   "outputs": [
    {
     "name": "stdout",
     "output_type": "stream",
     "text": [
      "Training on 7,939 character sequences.\n"
     ]
    },
    {
     "name": "stderr",
     "output_type": "stream",
     "text": [
      "/Library/Frameworks/Python.framework/Versions/3.7/lib/python3.7/site-packages/tensorflow_core/python/framework/indexed_slices.py:424: UserWarning: Converting sparse IndexedSlices to a dense Tensor of unknown shape. This may consume a large amount of memory.\n",
      "  \"Converting sparse IndexedSlices to a dense Tensor of unknown shape. \"\n"
     ]
    },
    {
     "name": "stdout",
     "output_type": "stream",
     "text": [
      "Epoch 1/5\n",
      "62/62 [==============================] - 10s 156ms/step - loss: 1.7455\n",
      "####################\n",
      "Temperature: 0.2\n",
      "####################\n",
      "When your friend both your friend Chans to ston a doctor and you want to stoner a feeline and your friend Satelle Commate asks to the someone and you don't use a grad and you want to say to the money asks to ston a son and you don't want to say to ston to ston a stone and you don't encould the tone\n",
      "\n",
      "When your friend Chanse the money and your friend Chanstone and you say it's the both assiari and you are a friend and you shout to ston a but the toner and you don't know the something the to a drama to ston and you want to say to make to ston a feel and you don't know a day and you don't know the\n",
      "\n",
      "When you want to say the the something and you don't tell your friend and your friend Chan asks to ston a drama to the building assiar assities asks the stoner as the student and you want to say to make the marks and your friend Has a feel and you don't ask your friend and you are the something and\n",
      "\n",
      "####################\n",
      "Temperature: 0.5\n",
      "####################\n",
      "When you don't everyone to stone masture.\n",
      "\n",
      "When your friend of the fargeling doctor foot to do a meme of the money to make something bake of the bad to a stick to long.\n",
      "\n",
      "When you the ston's secret to a feel from and al water the marth easters a fecumber at a scote manile and your friend something the song to u ban the Sa of the plane to day to the top ofter for your boral of the picco don't wants to but your friends are bond something casting the only to see a comm\n",
      "\n",
      "####################\n",
      "Temperature: 1.0\n",
      "####################\n",
      "When your friends ascurrinos words my when your fnant 'swarihmp' and like is don't domen's.\n",
      "\n",
      "When your friend's asuter you denec to grunk a dhail to do Chean to your bnonker soccerpoying the lassincal overtom'learting asks hena a freakos armies Epother showed zombies’ both has I'm visked of your Hallywear libs.\n",
      "\n",
      "When you userpence rand a ceil son of rather to to behind mig fackers rang.\n",
      "\n",
      "Epoch 2/5\n",
      " ------- OUTPUT TRUNCATED ------ ",
      "Epoch 5/5\n",
      "62/62 [==============================] - 9s 151ms/step - loss: 0.7612\n",
      "####################\n",
      "Temperature: 0.2\n",
      "####################\n",
      "When your friend Charge asks how the someone asks how the bott student is something.\n",
      "\n",
      "When your friend Canada is a Regress and you don't stops.\n",
      "\n",
      "When you want to say often your friend and you say \"I want to a dinosaur on your friend and you want to ask yourself.\n",
      "\n",
      "####################\n",
      "Temperature: 0.5\n",
      "####################\n",
      "When you say when your friend and you shout to stop.\n",
      "\n",
      "When your friend Eck study what happened to have but you want to ask yourself.\n",
      "\n",
      "When you are a beaut and your friend Id and you say \"I finally see that a building memes.\n",
      "\n",
      "####################\n",
      "Temperature: 1.0\n",
      "####################\n",
      "When you're no dead bullshits .\n",
      "\n",
      "When you would want to the Reward as not jush an hands ago.\n",
      "\n",
      "Celes: in a picting better box.\n",
      "\n"
     ]
    }
   ],
   "source": [
    "textgen.reset()\n",
    "textgen.train_on_texts(captions, num_epochs=5)"
   ]
  },
  {
   "cell_type": "markdown",
   "metadata": {},
   "source": [
    "Now, we can use the trained model to generate captions! To start, I've generated 5 with the default parameters. "
   ]
  },
  {
   "cell_type": "code",
   "execution_count": 91,
   "metadata": {},
   "outputs": [
    {
     "name": "stdout",
     "output_type": "stream",
     "text": [
      "####################\n",
      "Temperature: 0.2\n",
      "####################\n",
      "When your friend Good Surf in a communication.\n",
      "\n",
      "When your friend Chan and you want to ask yourself.\n",
      "\n",
      "When your friend Game is not so long.\n",
      "\n",
      "####################\n",
      "Temperature: 0.5\n",
      "####################\n",
      "When your friend Clence surf u add stuff to go on to someone to stop done but you say \"I don’t want to say \"I want to ask the grads\".\n",
      "\n",
      "When you want to be a room of the best friend but you say \"I say \"I like your friend are \"fee lock.\n",
      "\n",
      "When your friend comes off of the Hundred and Soccer Canada (Goose).\n",
      "\n",
      "####################\n",
      "Temperature: 1.0\n",
      "####################\n",
      "When your friend sent they need to say whord to go not grand your name is develes.\n",
      "\n",
      "When your dails worker during the Regunds to the surrounding. The \"one gets\" or someone to snikbyworks back a boattream on it?\n",
      "\n",
      "When you’re bout we need not lookinn.\n",
      "\n"
     ]
    }
   ],
   "source": [
    "textgen.generate_samples()"
   ]
  },
  {
   "cell_type": "markdown",
   "metadata": {},
   "source": [
    "Notice how many start with \"When your friend\", or \"When you\". This shows us that the model has learned something from the structure of the captions! Also notice the vocabulary. Most of the words in the generated captions did not appear in the original dataset. This is one of the advantages of training on top of an existing model. We get the benefit of English grammar and vocabulary, while being able to contribute the structure from the meme captions. \n",
    "\n",
    "These are a good start, but not perfect. They still aren't grammatical, and don't make a lot/any sense. I tuned the parameters of the model in a variety of ways. The final model I created used these parameters (and was run using Colaboratory GPU's)"
   ]
  },
  {
   "cell_type": "markdown",
   "metadata": {},
   "source": [
    "```\n",
    "textgen.reset()\n",
    "textgen.train_from_file(\n",
    "    file_path=file_name,\n",
    "    num_epochs=20,\n",
    "    batch_size=1024,\n",
    "    dropout=0.2,\n",
    "    #rnn_bidirectional=True,\n",
    "    validation=True,\n",
    "    rnn_layers=2,\n",
    "    rnn_size=256,)\n",
    "```"
   ]
  },
  {
   "cell_type": "markdown",
   "metadata": {},
   "source": [
    "We can load the saved model from a file and generate some samples at a variety of temperatures: "
   ]
  },
  {
   "cell_type": "code",
   "execution_count": 88,
   "metadata": {},
   "outputs": [
    {
     "name": "stdout",
     "output_type": "stream",
     "text": [
      "####################\n",
      "Temperature: 0.2\n",
      "####################\n",
      "When your friend Hardscome is slow to they don't know how to get their stat their friend and you want to stop a handsome in the building memes.\n",
      "\n",
      "When you want to go to the building post origing that was the building memes anymore.\n",
      "\n",
      "When your friend Hardschen is a deck of a building meme.\n",
      "\n",
      "When you want to go to the lock but you wond to stat to go off to the boss and no tried her hands out of a building memes.\n",
      "\n",
      "When your friend Gan asks how the RH and you want to go to the building post and now you want to sleep in the building memes anyoona to pronoun a decent and you want to go to them.\n",
      "\n",
      "####################\n",
      "Temperature: 0.5\n",
      "####################\n",
      "When your friend has 1 our porkchops.\n",
      "\n",
      "When your friend Also got me an exceptionally makin' to Rock of the box.\n",
      "\n",
      "When you're a building meme and you want to tell your friend.\n",
      "\n",
      "When you haven't seen near to convince the fuck up with your friend drops have Rocked all your librard and it's been but the bake of locks havent it on to layers to go of the boss and are \"remembered to the people and come a good of corn who I’m not urry tells to a building meme and you belt as hor\n",
      "\n",
      "When your friend Lawn and you want to make a diner and you haven't seenny too reach and now you seem to be into your strong to the box.\n",
      "\n",
      "####################\n",
      "Temperature: 1.0\n",
      "####################\n",
      "When the language Canada's father's vois with an account towks in a huckberty.\n",
      "\n",
      "When your friend was running to a building meme it's so .\n",
      "\n",
      "Does anyone Algo comes a dead yourgerpell.\n",
      "\n",
      "When you're a dead guy I cam forgot no refrigar to \"memis cap album\".\n",
      "\n",
      "When your buddy hesse he don't arp so the RH makes a building meme rock scissing mom.\n",
      "\n"
     ]
    }
   ],
   "source": [
    "textgen.reset()\n",
    "textgen.load(\"caption_model.hdf5\")\n",
    "textgen.generate_samples(n=5)"
   ]
  },
  {
   "cell_type": "markdown",
   "metadata": {},
   "source": [
    "Notice how the samples with a temperature of 0.2 use a lot of vocabulary from the original captions, such as \"Gan\", \"RH\", and \"building meme\". They also all start with \"When you\" or \"When your friend\". The higher temperature samples have more diverse vocabulary, but still do a good job of emulating the style of the building memes. "
   ]
  },
 ],
 "metadata": {
  "kernelspec": {
   "display_name": "Python 3",
   "language": "python",
   "name": "python3"
  },
  "language_info": {
   "codemirror_mode": {
    "name": "ipython",
    "version": 3
   },
   "file_extension": ".py",
   "mimetype": "text/x-python",
   "name": "python",
   "nbconvert_exporter": "python",
   "pygments_lexer": "ipython3",
   "version": "3.7.4"
  }
 },
 "nbformat": 4,
 "nbformat_minor": 2
}
